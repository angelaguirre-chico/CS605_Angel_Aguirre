{
 "cells": [
  {
   "cell_type": "markdown",
   "id": "75244a90-107d-4d2c-b113-2488bf8947e6",
   "metadata": {},
   "source": [
    "# Assignment 5"
   ]
  },
  {
   "cell_type": "markdown",
   "id": "54ceb911-cbe7-4935-8571-bcdc78deeada",
   "metadata": {},
   "source": [
    "## Implementation"
   ]
  },
  {
   "cell_type": "markdown",
   "id": "5bce5270-be30-449d-8a73-e90e5c235c80",
   "metadata": {},
   "source": [
    "Create a class TreeNode to represent a node in the binary search tree. Each\n",
    "node should store:\n",
    "\n",
    "- A key (the name).\n",
    "- A value (the phone number).\n",
    "- References to the left and right children of the node."
   ]
  },
  {
   "cell_type": "code",
   "execution_count": 1056,
   "id": "26f95aee-8716-40f8-ba8a-9a65b4e303e5",
   "metadata": {},
   "outputs": [],
   "source": [
    "class TreeNode:\n",
    "    def __init__(self, name, phone_number):\n",
    "        self.name = name # the key\n",
    "        self.phone_number = phone_number # the value\n",
    "        self.left = None # left\n",
    "        self.right = None #right"
   ]
  },
  {
   "cell_type": "markdown",
   "id": "a2ba8d22-9069-4421-8a6d-6bfca2cfbc7c",
   "metadata": {},
   "source": [
    "Create a class BinarySearchTree that represents the binary search tree. The tree should be initialized as empty and should have methods to:\n",
    "\n",
    "- Insert a new node with a name and phone number.\n",
    "- Search for a phone number given a name (the key).\n",
    "- Delete a node by name from the tree (extra credit)."
   ]
  },
  {
   "cell_type": "code",
   "execution_count": 1058,
   "id": "b49bb24f-34dd-4ca4-ba20-c06dec8e1f74",
   "metadata": {},
   "outputs": [],
   "source": [
    "class BST:\n",
    "    # Initialize empty BST \n",
    "    def __init__(self):\n",
    "        self.root = None \n",
    "\n",
    "    # Insert a new node with a name and phone number.    \n",
    "    def insert(self, name, phone_number):\n",
    "        if not self.root: # if root does not exist insert tree node in the root\n",
    "            self.root = TreeNode(name,phone_number)\n",
    "            return\n",
    "        # Check if its an actual name\n",
    "        if (type(name) is str):\n",
    "            self._insert(self.root, name, phone_number)\n",
    "        else:\n",
    "            print('That is not a name')\n",
    "    \n",
    "    # Helper function to insert node with node argument\n",
    "    def _insert(self, node, name, phone_number):\n",
    "        if name <= node.name: # if new name lesser than or equal to the current node \n",
    "            if node.left: # if there exist a left node\n",
    "                self._insert(node.left, name, phone_number) # traverse to the left node\n",
    "            else: # if a left node does not exist\n",
    "                node.left = TreeNode(name, phone_number) # the new node becomes the left node\n",
    "        elif name > node.name: # if new name greater than the current node \n",
    "            if node.right: # if there exist a right node\n",
    "                self._insert(node.right, name, phone_number) # traverse to the right node\n",
    "            else: # if a right node does not exist\n",
    "                node.right = TreeNode(name, phone_number) # the new node becomes the right node\n",
    "\n",
    "    # Search for a phone number given a name (the key).\n",
    "    def search(self, name):\n",
    "        if not self.root: # if bst empty\n",
    "            print(\"Database Empty!\")\n",
    "            return\n",
    "\n",
    "        # is input an actual name continue\n",
    "        if (type(name) is str):\n",
    "            return self._search(self.root, name)\n",
    "        else:\n",
    "            print('That is not a name')\n",
    "\n",
    "    # Helper function to search node with node argument\n",
    "    def _search(self, node, name):\n",
    "        if name == node.name: # if name matches\n",
    "            return node.phone_number # return phone number\n",
    "        elif name <= node.name and node.left: # if name lesser than or equal to current node name and if left node exist\n",
    "            return self._search(node.left, name) # traverse left \n",
    "        elif name > node.name and node.right: # if name greater than the current node and if right node exist\n",
    "            return self._search(node.right, name) # traverse right \n",
    "        else:\n",
    "            return None\n",
    "\n",
    "    # print all names and their associated phone numbers in sorted order\n",
    "    def inorder_traversal(self):\n",
    "        # if bst not empty continue else just print message\n",
    "        if (self.root):\n",
    "            self._inorder_traversal(self.root)\n",
    "        else:\n",
    "            print(\"Database Empty!\")\n",
    "\n",
    "    # helper function print information with inorder traversal\n",
    "    def _inorder_traversal(self,node):\n",
    "        if node:\n",
    "            self._inorder_traversal(node.left)\n",
    "            print(\"{}: {}\".format(node.name,node.phone_number))\n",
    "            self._inorder_traversal(node.right)\n",
    "\n",
    "    # Delete a node by name from the tree\n",
    "    def delete(self,name):\n",
    "        # if bst not empty continue else just print message\n",
    "        if (self.root):\n",
    "            # if actual name continue\n",
    "            if (type(name) is str):\n",
    "                self.root = self._delete(self.root,name)\n",
    "            else:\n",
    "                print('That is not a name')\n",
    "        else:\n",
    "            print(\"Database Empty!\")\n",
    "\n",
    "    # helper function with inorder traversal\n",
    "    def _delete(self,node,name):\n",
    "        if (node):\n",
    "            node.left = self._delete(node.left, name)\n",
    "            node.right = self._delete(node.right, name)\n",
    "\n",
    "            # Check if node matches value\n",
    "            if (node.name == name):\n",
    "                # when node has no or one child\n",
    "                # if no left node return right node\n",
    "                # if no right node return left node\n",
    "                if not node.left: \n",
    "                    return node.right\n",
    "                elif not node.right:\n",
    "                    return node.left\n",
    "\n",
    "                # when node has two children\n",
    "                # find the minimum of the right subtree\n",
    "                # replace node with minimum value\n",
    "                node.name = self.min_value(node.right)\n",
    "                # delete old node with minimum value\n",
    "                node.right = self._delete(node.right, node.name)\n",
    "\n",
    "        return node\n",
    "\n",
    "    # to find minimum traverse left until you cant anymore\n",
    "    def min_value(self,node):\n",
    "        if not node.left:\n",
    "            return node.name\n",
    "        \n",
    "        self.min_value(node.left)\n",
    "                \n",
    "    "
   ]
  },
  {
   "cell_type": "markdown",
   "id": "c3a39383-4302-43ba-8ea5-00de828c062a",
   "metadata": {},
   "source": [
    "## Test Cases"
   ]
  },
  {
   "cell_type": "markdown",
   "id": "f5bbec87-9a0b-4563-bdd7-cc6f186fe596",
   "metadata": {},
   "source": [
    "### Test Case 1"
   ]
  },
  {
   "cell_type": "markdown",
   "id": "232433e0-bfcd-4969-a4d8-233a56ba7078",
   "metadata": {},
   "source": [
    "First case similar to the example"
   ]
  },
  {
   "cell_type": "code",
   "execution_count": 1062,
   "id": "d02a5d2c-6138-463f-b7e2-70653ce16f88",
   "metadata": {},
   "outputs": [],
   "source": [
    "bst = BST()\n",
    "bst.insert('Ange',123)\n",
    "bst.insert('zebra',321)\n",
    "bst.insert(\"Alice\", \"555-1234\")\n",
    "bst.insert(\"Bob\", \"555-2345\")\n",
    "bst.insert(\"Charlie\", \"555-3456\")"
   ]
  },
  {
   "cell_type": "code",
   "execution_count": 1063,
   "id": "2bf936c0-0586-413b-843c-c9bb93585a15",
   "metadata": {},
   "outputs": [
    {
     "name": "stdout",
     "output_type": "stream",
     "text": [
      "555-2345\n",
      "555-1234\n",
      "None\n",
      "123\n"
     ]
    }
   ],
   "source": [
    "print(bst.search('Bob'))\n",
    "print(bst.search('Alice'))\n",
    "print(bst.search('David'))\n",
    "print(bst.search('Ange'))"
   ]
  },
  {
   "cell_type": "code",
   "execution_count": 1064,
   "id": "081b10c9-6c24-4a97-9b77-b2d576af9a23",
   "metadata": {},
   "outputs": [
    {
     "name": "stdout",
     "output_type": "stream",
     "text": [
      "Alice: 555-1234\n",
      "Ange: 123\n",
      "Bob: 555-2345\n",
      "Charlie: 555-3456\n",
      "zebra: 321\n"
     ]
    }
   ],
   "source": [
    "bst.inorder_traversal()"
   ]
  },
  {
   "cell_type": "code",
   "execution_count": 1065,
   "id": "bff484de-7f70-40bb-86ce-358e48062e5a",
   "metadata": {},
   "outputs": [],
   "source": [
    "bst.delete(\"Charlie\")"
   ]
  },
  {
   "cell_type": "code",
   "execution_count": 1066,
   "id": "d306feee-3aef-4581-97b0-9c5098b4055d",
   "metadata": {},
   "outputs": [
    {
     "name": "stdout",
     "output_type": "stream",
     "text": [
      "Alice: 555-1234\n",
      "Ange: 123\n",
      "Bob: 555-2345\n",
      "zebra: 321\n"
     ]
    }
   ],
   "source": [
    "bst.inorder_traversal()"
   ]
  },
  {
   "cell_type": "markdown",
   "id": "8d2a5200-894c-4396-96b0-bafb367a5a23",
   "metadata": {},
   "source": [
    "### Test Case 2"
   ]
  },
  {
   "cell_type": "markdown",
   "id": "9e830d78-6d65-4bd5-9253-054fa8343b76",
   "metadata": {},
   "source": [
    "I want to see if i can delete nodes if they're a leaf node"
   ]
  },
  {
   "cell_type": "code",
   "execution_count": 1069,
   "id": "1bc44596-fa52-4fea-a22f-217a44a209cc",
   "metadata": {},
   "outputs": [],
   "source": [
    "bst = BST()\n",
    "bst.insert('Jamie', '987-654-3210')\n",
    "bst.insert('Alex', '123-456-7890')\n",
    "bst.insert('Taylor', '555-123-4567')"
   ]
  },
  {
   "cell_type": "code",
   "execution_count": 1070,
   "id": "245dee82-7b4e-44a5-86b7-f45c238f3471",
   "metadata": {},
   "outputs": [
    {
     "name": "stdout",
     "output_type": "stream",
     "text": [
      "Alex: 123-456-7890\n",
      "Jamie: 987-654-3210\n",
      "Taylor: 555-123-4567\n"
     ]
    }
   ],
   "source": [
    "bst.inorder_traversal()"
   ]
  },
  {
   "cell_type": "code",
   "execution_count": 1071,
   "id": "613fc79e-f2f2-41f9-9fdc-6e5b150aa26d",
   "metadata": {},
   "outputs": [
    {
     "data": {
      "text/plain": [
       "'123-456-7890'"
      ]
     },
     "execution_count": 1071,
     "metadata": {},
     "output_type": "execute_result"
    }
   ],
   "source": [
    "bst.search('Alex')"
   ]
  },
  {
   "cell_type": "markdown",
   "id": "31427f21-900b-4ea2-9a38-69bf473f6b54",
   "metadata": {},
   "source": [
    "Not sure if i needed this but wanted to cover if somehow a number gets inputted here."
   ]
  },
  {
   "cell_type": "code",
   "execution_count": 1073,
   "id": "4641eda2-6f5d-4f45-b67e-5bd47c2f432f",
   "metadata": {},
   "outputs": [
    {
     "name": "stdout",
     "output_type": "stream",
     "text": [
      "That is not a name\n"
     ]
    }
   ],
   "source": [
    "bst.search(1)"
   ]
  },
  {
   "cell_type": "code",
   "execution_count": 1074,
   "id": "df510979-e5fa-49b9-a14d-b5dbe5aa0cb7",
   "metadata": {},
   "outputs": [],
   "source": [
    "bst.delete(\"Alex\")"
   ]
  },
  {
   "cell_type": "code",
   "execution_count": 1075,
   "id": "f4dcf5cd-cac3-4027-a898-d848a5ef1685",
   "metadata": {},
   "outputs": [
    {
     "name": "stdout",
     "output_type": "stream",
     "text": [
      "Jamie: 987-654-3210\n",
      "Taylor: 555-123-4567\n"
     ]
    }
   ],
   "source": [
    "bst.inorder_traversal()"
   ]
  },
  {
   "cell_type": "code",
   "execution_count": 1076,
   "id": "5c62af28-fb75-4798-840a-fcf5ac33cb3f",
   "metadata": {},
   "outputs": [],
   "source": [
    "bst.delete('Jamie')"
   ]
  },
  {
   "cell_type": "code",
   "execution_count": 1077,
   "id": "06a3620c-52bd-44a9-8ed5-526ac6f7df69",
   "metadata": {},
   "outputs": [
    {
     "name": "stdout",
     "output_type": "stream",
     "text": [
      "Taylor: 555-123-4567\n"
     ]
    }
   ],
   "source": [
    "bst.inorder_traversal()"
   ]
  },
  {
   "cell_type": "code",
   "execution_count": 1078,
   "id": "578536af-e4a5-409f-b24f-4d9903ab4114",
   "metadata": {},
   "outputs": [
    {
     "name": "stdout",
     "output_type": "stream",
     "text": [
      "That is not a name\n"
     ]
    }
   ],
   "source": [
    "bst.delete(1)"
   ]
  },
  {
   "cell_type": "markdown",
   "id": "b477b040-a018-4a23-bb54-99809b0547dc",
   "metadata": {},
   "source": [
    "### Test Case 3"
   ]
  },
  {
   "cell_type": "code",
   "execution_count": 1080,
   "id": "08725c81-f153-45ff-96c1-a5bc5ae9bd84",
   "metadata": {},
   "outputs": [],
   "source": [
    "bst = BST()\n",
    "bst.insert('Emma', '234-567-8901')\n",
    "bst.insert('Noah', '345-678-9012')\n",
    "bst.insert('Olivia', '456-789-0123')\n",
    "bst.insert('Liam', '567-890-1234')\n",
    "bst.insert('Sophia', '678-901-2345')\n",
    "bst.insert('Zack', '911-222-3949')"
   ]
  },
  {
   "cell_type": "code",
   "execution_count": 1081,
   "id": "e5ccec00-0b28-4414-8733-3def2b220160",
   "metadata": {},
   "outputs": [
    {
     "name": "stdout",
     "output_type": "stream",
     "text": [
      "That is not a name\n"
     ]
    }
   ],
   "source": [
    "bst.insert(123,456)"
   ]
  },
  {
   "cell_type": "code",
   "execution_count": 1082,
   "id": "9f235463-7303-4815-8e3a-cf18aa6ce5bf",
   "metadata": {},
   "outputs": [
    {
     "name": "stdout",
     "output_type": "stream",
     "text": [
      "Emma: 234-567-8901\n",
      "Liam: 567-890-1234\n",
      "Noah: 345-678-9012\n",
      "Olivia: 456-789-0123\n",
      "Sophia: 678-901-2345\n",
      "Zack: 911-222-3949\n"
     ]
    }
   ],
   "source": [
    "bst.inorder_traversal()"
   ]
  },
  {
   "cell_type": "code",
   "execution_count": 1083,
   "id": "0e432f23-0dbd-4475-95f1-665811090aee",
   "metadata": {},
   "outputs": [
    {
     "name": "stdout",
     "output_type": "stream",
     "text": [
      "234-567-8901\n",
      "345-678-9012\n",
      "456-789-0123\n",
      "567-890-1234\n",
      "678-901-2345\n"
     ]
    }
   ],
   "source": [
    "print(bst.search('Emma'))\n",
    "print(bst.search('Noah'))\n",
    "print(bst.search('Olivia'))\n",
    "print(bst.search('Liam'))\n",
    "print(bst.search('Sophia'))"
   ]
  },
  {
   "cell_type": "code",
   "execution_count": 1084,
   "id": "53d84c7e-4886-4432-bf82-da3b03fab054",
   "metadata": {},
   "outputs": [],
   "source": [
    "bst.delete('Emma')"
   ]
  },
  {
   "cell_type": "code",
   "execution_count": 1085,
   "id": "601a33a6-c645-42a0-a7c9-b996560cfbf1",
   "metadata": {},
   "outputs": [
    {
     "name": "stdout",
     "output_type": "stream",
     "text": [
      "Liam: 567-890-1234\n",
      "Noah: 345-678-9012\n",
      "Olivia: 456-789-0123\n",
      "Sophia: 678-901-2345\n",
      "Zack: 911-222-3949\n"
     ]
    }
   ],
   "source": [
    "bst.inorder_traversal()"
   ]
  },
  {
   "cell_type": "code",
   "execution_count": 1086,
   "id": "d6455959-08d5-4c4d-be6d-cac90a067a99",
   "metadata": {},
   "outputs": [],
   "source": [
    "bst.delete('Noah')"
   ]
  },
  {
   "cell_type": "code",
   "execution_count": 1087,
   "id": "629bb7fe-d8bd-4376-a4ee-df5cf767d9a8",
   "metadata": {},
   "outputs": [
    {
     "name": "stdout",
     "output_type": "stream",
     "text": [
      "Liam: 567-890-1234\n",
      "Olivia: 345-678-9012\n",
      "Sophia: 678-901-2345\n",
      "Zack: 911-222-3949\n"
     ]
    }
   ],
   "source": [
    "bst.inorder_traversal()"
   ]
  },
  {
   "cell_type": "code",
   "execution_count": 1088,
   "id": "d430b752-fe08-4e5e-adbc-4e94b0671402",
   "metadata": {},
   "outputs": [],
   "source": [
    "bst.delete('Olivia')\n",
    "bst.delete('Liam')\n",
    "bst.delete('Sophia')\n",
    "bst.delete('Zack')"
   ]
  },
  {
   "cell_type": "code",
   "execution_count": 1089,
   "id": "da68cac2-32d8-45d3-a665-a53b056d824a",
   "metadata": {},
   "outputs": [
    {
     "name": "stdout",
     "output_type": "stream",
     "text": [
      "Database Empty!\n"
     ]
    }
   ],
   "source": [
    "bst.inorder_traversal()"
   ]
  },
  {
   "cell_type": "code",
   "execution_count": 1090,
   "id": "785c96d5-ef19-4d58-939e-a00a23209515",
   "metadata": {},
   "outputs": [
    {
     "name": "stdout",
     "output_type": "stream",
     "text": [
      "Database Empty!\n"
     ]
    }
   ],
   "source": [
    "bst.delete('Zack')"
   ]
  },
  {
   "cell_type": "markdown",
   "id": "5242f749-338a-4adb-8990-7a9c675cb6ab",
   "metadata": {},
   "source": [
    "### Test Case 4"
   ]
  },
  {
   "cell_type": "code",
   "execution_count": 1092,
   "id": "f910b9ef-7989-4dd6-8515-3b6a073f9d3d",
   "metadata": {},
   "outputs": [],
   "source": [
    "bst = BST()"
   ]
  },
  {
   "cell_type": "code",
   "execution_count": 1093,
   "id": "3c412ce1-1d4e-4dbf-9b63-2659612f468c",
   "metadata": {},
   "outputs": [
    {
     "name": "stdout",
     "output_type": "stream",
     "text": [
      "Database Empty!\n"
     ]
    }
   ],
   "source": [
    "bst.delete('ANgel')"
   ]
  },
  {
   "cell_type": "code",
   "execution_count": 1094,
   "id": "2fb52a5a-0d4b-468b-9d09-a283c46d9f8b",
   "metadata": {},
   "outputs": [
    {
     "name": "stdout",
     "output_type": "stream",
     "text": [
      "Database Empty!\n"
     ]
    }
   ],
   "source": [
    "bst.search('ANgel')"
   ]
  },
  {
   "cell_type": "code",
   "execution_count": 1095,
   "id": "b3316958-d04d-4035-83d5-225310859386",
   "metadata": {},
   "outputs": [
    {
     "name": "stdout",
     "output_type": "stream",
     "text": [
      "Database Empty!\n"
     ]
    }
   ],
   "source": [
    "bst.inorder_traversal()"
   ]
  },
  {
   "cell_type": "code",
   "execution_count": 1096,
   "id": "4da19b72-e34a-4431-8a5e-e702204f7eb3",
   "metadata": {},
   "outputs": [],
   "source": [
    "bst.insert('Mar', '999-999-9999')\n",
    "bst.insert('Ocean', '222-222-2222')\n",
    "bst.insert('Sea', '333-333-3333')"
   ]
  },
  {
   "cell_type": "code",
   "execution_count": 1097,
   "id": "ce54d6fa-c7a9-4bac-bf06-19e25fc419a6",
   "metadata": {},
   "outputs": [
    {
     "name": "stdout",
     "output_type": "stream",
     "text": [
      "Mar: 999-999-9999\n",
      "Ocean: 222-222-2222\n",
      "Sea: 333-333-3333\n"
     ]
    }
   ],
   "source": [
    "bst.inorder_traversal()"
   ]
  },
  {
   "cell_type": "code",
   "execution_count": 1098,
   "id": "6aeb9e67-427c-4318-8337-6c4ec4e8c5a6",
   "metadata": {},
   "outputs": [
    {
     "name": "stdout",
     "output_type": "stream",
     "text": [
      "None\n"
     ]
    }
   ],
   "source": [
    "print(bst.search('salt'))"
   ]
  },
  {
   "cell_type": "code",
   "execution_count": 1099,
   "id": "7d533baf-5c25-4420-95da-a98e47fdf53e",
   "metadata": {},
   "outputs": [],
   "source": [
    "bst.delete('Sea')\n",
    "bst.delete('Ocean')\n",
    "bst.delete('Mar')"
   ]
  },
  {
   "cell_type": "code",
   "execution_count": 1100,
   "id": "6a80b5e0-58e0-4571-a7ab-af316363dfd9",
   "metadata": {},
   "outputs": [
    {
     "name": "stdout",
     "output_type": "stream",
     "text": [
      "Database Empty!\n"
     ]
    }
   ],
   "source": [
    "bst.inorder_traversal()"
   ]
  },
  {
   "cell_type": "code",
   "execution_count": null,
   "id": "f90d4fd3-fb31-467d-a7e1-2282309d1427",
   "metadata": {},
   "outputs": [],
   "source": []
  }
 ],
 "metadata": {
  "kernelspec": {
   "display_name": "Python [conda env:anaconda3]",
   "language": "python",
   "name": "conda-env-anaconda3-py"
  },
  "language_info": {
   "codemirror_mode": {
    "name": "ipython",
    "version": 3
   },
   "file_extension": ".py",
   "mimetype": "text/x-python",
   "name": "python",
   "nbconvert_exporter": "python",
   "pygments_lexer": "ipython3",
   "version": "3.8.8"
  }
 },
 "nbformat": 4,
 "nbformat_minor": 5
}
